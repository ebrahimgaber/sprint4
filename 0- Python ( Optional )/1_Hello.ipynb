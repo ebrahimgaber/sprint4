{
  "metadata": {
    "kernelspec": {
      "language": "python",
      "display_name": "Python 3",
      "name": "python3"
    },
    "language_info": {
      "name": "python",
      "version": "3.7.12",
      "mimetype": "text/x-python",
      "codemirror_mode": {
        "name": "ipython",
        "version": 3
      },
      "pygments_lexer": "ipython3",
      "nbconvert_exporter": "python",
      "file_extension": ".py"
    },
    "colab": {
      "name": "1- Hello.ipynb.ipynb",
      "provenance": []
    }
  },
  "nbformat_minor": 0,
  "nbformat": 4,
  "cells": [
    {
      "cell_type": "markdown",
      "source": [
        "**This notebook is an exercise in the [Python](https://www.kaggle.com/learn/python) course.  You can reference the tutorial at [this link](https://www.kaggle.com/colinmorris/hello-python).**\n",
        "\n",
        "---\n"
      ],
      "metadata": {
        "id": "_8zm67QWnXiH"
      }
    },
    {
      "cell_type": "code",
      "source": [
        "spam_amount = 0\n",
        "print(spam_amount)\n",
        "\n",
        "# Ordering Spam, egg, Spam, Spam, bacon and Spam (4 more servings of Spam)\n",
        "spam_amount = spam_amount + 4\n",
        "\n",
        "if spam_amount > 0:\n",
        "    print(\"But I don't want ANY spam!\")\n",
        "\n",
        "viking_song = \"Spam \" * spam_amount\n",
        "print(viking_song)"
      ],
      "metadata": {
        "execution": {
          "iopub.status.busy": "2022-03-29T21:05:07.533945Z",
          "iopub.execute_input": "2022-03-29T21:05:07.534256Z",
          "iopub.status.idle": "2022-03-29T21:05:07.540587Z",
          "shell.execute_reply.started": "2022-03-29T21:05:07.534217Z",
          "shell.execute_reply": "2022-03-29T21:05:07.539639Z"
        },
        "trusted": true,
        "id": "-fsoh73znXiO"
      },
      "execution_count": null,
      "outputs": []
    },
    {
      "cell_type": "markdown",
      "source": [
        ""
      ],
      "metadata": {
        "id": "vXsBUnDInXiQ"
      }
    },
    {
      "cell_type": "code",
      "source": [
        "spam_amount = 0"
      ],
      "metadata": {
        "execution": {
          "iopub.status.busy": "2022-03-29T21:05:19.146850Z",
          "iopub.execute_input": "2022-03-29T21:05:19.147164Z",
          "iopub.status.idle": "2022-03-29T21:05:19.151255Z",
          "shell.execute_reply.started": "2022-03-29T21:05:19.147129Z",
          "shell.execute_reply": "2022-03-29T21:05:19.150614Z"
        },
        "trusted": true,
        "id": "_Jq20WmgnXiR"
      },
      "execution_count": null,
      "outputs": []
    },
    {
      "cell_type": "code",
      "source": [
        "print(spam_amount)"
      ],
      "metadata": {
        "execution": {
          "iopub.status.busy": "2022-03-29T21:05:22.292317Z",
          "iopub.execute_input": "2022-03-29T21:05:22.292979Z",
          "iopub.status.idle": "2022-03-29T21:05:22.296987Z",
          "shell.execute_reply.started": "2022-03-29T21:05:22.292931Z",
          "shell.execute_reply": "2022-03-29T21:05:22.296207Z"
        },
        "trusted": true,
        "id": "ZK1VjJAdnXiS"
      },
      "execution_count": null,
      "outputs": []
    },
    {
      "cell_type": "code",
      "source": [
        "# Ordering Spam, egg, Spam, Spam, bacon and Spam (4 more servings of Spam)\n",
        "spam_amount = spam_amount + 4"
      ],
      "metadata": {
        "execution": {
          "iopub.status.busy": "2022-03-29T21:05:27.048697Z",
          "iopub.execute_input": "2022-03-29T21:05:27.049239Z",
          "iopub.status.idle": "2022-03-29T21:05:27.053144Z",
          "shell.execute_reply.started": "2022-03-29T21:05:27.049183Z",
          "shell.execute_reply": "2022-03-29T21:05:27.052328Z"
        },
        "trusted": true,
        "id": "npNsg3JjnXiS"
      },
      "execution_count": null,
      "outputs": []
    },
    {
      "cell_type": "markdown",
      "source": [
        "Welcome to your first set of Python coding problems.  If this is your first time using Kaggle Notebooks, welcome! \n",
        "\n",
        "Notebooks are composed of blocks (called \"cells\") of text and code. Each of these is editable, though you'll mainly be editing the code cells to answer some questions.\n",
        "\n",
        "To get started, try running the code cell below (by pressing the ► button, or clicking on the cell and pressing ctrl+enter on your keyboard)."
      ],
      "metadata": {
        "id": "Lxm20_T3nXiT"
      }
    },
    {
      "cell_type": "code",
      "source": [
        "print(\"You've successfully run some Python code\")\n",
        "print(\"Congratulations!\")"
      ],
      "metadata": {
        "execution": {
          "iopub.status.busy": "2022-03-29T21:05:34.905650Z",
          "iopub.execute_input": "2022-03-29T21:05:34.906487Z",
          "iopub.status.idle": "2022-03-29T21:05:34.912046Z",
          "shell.execute_reply.started": "2022-03-29T21:05:34.906435Z",
          "shell.execute_reply": "2022-03-29T21:05:34.910975Z"
        },
        "trusted": true,
        "id": "TG3Y_srdnXiV"
      },
      "execution_count": null,
      "outputs": []
    },
    {
      "cell_type": "markdown",
      "source": [
        "Try adding another line of code in the cell above and re-running it. \n",
        "\n",
        "Now let's get a little fancier:  Add a new code cell by clicking on an existing code cell, hitting the escape key, and then hitting the `a` or `b` key.  The `a` key will add a cell above the current cell, and `b` adds a cell below.\n",
        "\n",
        "Great! Now you know how to use Notebooks.\n",
        "\n",
        "Each hands-on exercise starts by setting up our feedback and code checking mechanism. Run the code cell below to do that. Then you'll be ready to move on to question 0."
      ],
      "metadata": {
        "id": "Kg0Ve3XgnXiW"
      }
    },
    {
      "cell_type": "code",
      "source": [
        "from learntools.core import binder; binder.bind(globals())\n",
        "from learntools.python.ex1 import *\n",
        "print(\"Setup complete! You're ready to start question 0.\")"
      ],
      "metadata": {
        "_kg_hide-input": true,
        "_kg_hide-output": true,
        "execution": {
          "iopub.status.busy": "2022-03-29T21:05:40.274511Z",
          "iopub.execute_input": "2022-03-29T21:05:40.275415Z",
          "iopub.status.idle": "2022-03-29T21:05:40.312609Z",
          "shell.execute_reply.started": "2022-03-29T21:05:40.275367Z",
          "shell.execute_reply": "2022-03-29T21:05:40.312015Z"
        },
        "trusted": true,
        "id": "hVTIEt5AnXiX"
      },
      "execution_count": null,
      "outputs": []
    },
    {
      "cell_type": "markdown",
      "source": [
        "# 0.\n",
        "\n",
        "*This is a silly question intended as an introduction to the format we use for hands-on exercises throughout all Kaggle courses.*\n",
        "\n",
        "**What is your favorite color? **\n",
        "\n",
        "To complete this question, create a variable called `color` in the cell below with an appropriate value. The function call `q0.check()` (which we've already provided in the cell below) will check your answer."
      ],
      "metadata": {
        "id": "F06zHyKXnXiY"
      }
    },
    {
      "cell_type": "code",
      "source": [
        "# create a variable called color with an appropriate value on the line below\n",
        "# (Remember, strings in Python must be enclosed in 'single' or \"double\" quotes)\n",
        "____\n",
        "color = 'blue'\n",
        "# Check your answer\n",
        "q0.check()"
      ],
      "metadata": {
        "execution": {
          "iopub.status.busy": "2022-03-29T21:11:11.222119Z",
          "iopub.execute_input": "2022-03-29T21:11:11.222413Z",
          "iopub.status.idle": "2022-03-29T21:11:11.232634Z",
          "shell.execute_reply.started": "2022-03-29T21:11:11.222380Z",
          "shell.execute_reply": "2022-03-29T21:11:11.232023Z"
        },
        "trusted": true,
        "id": "p3QwLzzAnXiZ"
      },
      "execution_count": null,
      "outputs": []
    },
    {
      "cell_type": "markdown",
      "source": [
        "Didn't get the right answer? How do you not even know your own favorite color?!\n",
        "\n",
        "Delete the `#` in the line below to make one of the lines run. You can choose between getting a hint or the full answer by choosing which line to remove the `#` from. \n",
        "\n",
        "Removing the `#` is called uncommenting, because it changes that line from a \"comment\" which Python doesn't run to code, which Python does run."
      ],
      "metadata": {
        "id": "m4H7Mpv5nXiZ"
      }
    },
    {
      "cell_type": "code",
      "source": [
        "q0.hint()\n",
        "q0.solution()"
      ],
      "metadata": {
        "execution": {
          "iopub.status.busy": "2022-03-29T21:13:30.892890Z",
          "iopub.execute_input": "2022-03-29T21:13:30.893170Z",
          "iopub.status.idle": "2022-03-29T21:13:30.904730Z",
          "shell.execute_reply.started": "2022-03-29T21:13:30.893142Z",
          "shell.execute_reply": "2022-03-29T21:13:30.903742Z"
        },
        "trusted": true,
        "id": "qybBe7uhnXia"
      },
      "execution_count": null,
      "outputs": []
    },
    {
      "cell_type": "markdown",
      "source": [
        "The upcoming questions work the same way. The only thing that will change are the question numbers. For the next question, you'll call `q1.check()`, `q1.hint()`, `q1.solution()`, for question 2, you'll call `q2.check()`, and so on."
      ],
      "metadata": {
        "id": "vaOH1ewbnXia"
      }
    },
    {
      "cell_type": "markdown",
      "source": [
        "<hr/>\n",
        "\n",
        "# 1.\n",
        "\n",
        "Complete the code below. In case it's helpful, here is the table of available arithmetic operations:\n",
        "\n",
        "\n",
        "\n",
        "| Operator     | Name           | Description                                            |\n",
        "|--------------|----------------|--------------------------------------------------------|\n",
        "| ``a + b``    | Addition       | Sum of ``a`` and ``b``                                 |\n",
        "| ``a - b``    | Subtraction    | Difference of ``a`` and ``b``                          |\n",
        "| ``a * b``    | Multiplication | Product of ``a`` and ``b``                             |\n",
        "| ``a / b``    | True division  | Quotient of ``a`` and ``b``                            |\n",
        "| ``a // b``   | Floor division | Quotient of ``a`` and ``b``, removing fractional parts |\n",
        "| ``a % b``    | Modulus        | Integer remainder after division of ``a`` by ``b``     |\n",
        "| ``a ** b``   | Exponentiation | ``a`` raised to the power of ``b``                     |\n",
        "| ``-a``       | Negation       | The negative of ``a``                                  |\n",
        "\n",
        "<span style=\"display:none\"></span>\n"
      ],
      "metadata": {
        "id": "n9AgT-J_nXib"
      }
    },
    {
      "cell_type": "code",
      "source": [
        "pi = 3.14159 # approximate\n",
        "diameter = 3\n",
        "\n",
        "# Create a variable called 'radius' equal to half the diameter\n",
        "radius = diameter/2\n",
        "\n",
        "\n",
        "# Create a variable called 'area', using the formula for the area of a circle: pi times the radius squared\n",
        "area = pi * radius**2\n",
        "\n",
        "#Check your answer\n",
        "q1.check()"
      ],
      "metadata": {
        "execution": {
          "iopub.status.busy": "2022-03-29T21:18:59.675736Z",
          "iopub.execute_input": "2022-03-29T21:18:59.676421Z",
          "iopub.status.idle": "2022-03-29T21:18:59.684509Z",
          "shell.execute_reply.started": "2022-03-29T21:18:59.676369Z",
          "shell.execute_reply": "2022-03-29T21:18:59.683945Z"
        },
        "trusted": true,
        "id": "E9PLyRYTnXic"
      },
      "execution_count": null,
      "outputs": []
    },
    {
      "cell_type": "code",
      "source": [
        "# Uncomment and run the lines below if you need help.\n",
        "q1.hint()\n",
        "q1.solution()"
      ],
      "metadata": {
        "execution": {
          "iopub.status.busy": "2022-03-29T21:19:35.822730Z",
          "iopub.execute_input": "2022-03-29T21:19:35.823042Z",
          "iopub.status.idle": "2022-03-29T21:19:35.834474Z",
          "shell.execute_reply.started": "2022-03-29T21:19:35.823009Z",
          "shell.execute_reply": "2022-03-29T21:19:35.833653Z"
        },
        "trusted": true,
        "id": "gpKlOmEenXic"
      },
      "execution_count": null,
      "outputs": []
    },
    {
      "cell_type": "markdown",
      "source": [
        "<hr/>\n",
        "\n",
        "# 2.\n",
        "\n",
        "Add code to the following cell to swap variables `a` and `b` (so that `a` refers to the object previously referred to by `b` and vice versa)."
      ],
      "metadata": {
        "id": "ptefnqBknXid"
      }
    },
    {
      "cell_type": "code",
      "source": [
        "########### Setup code - don't touch this part ######################\n",
        "# If you're curious, these are examples of lists. We'll talk about \n",
        "# them in depth a few lessons from now. For now, just know that they're\n",
        "# yet another type of Python object, like int or float.\n",
        "a = [1, 2, 3]\n",
        "b = [3, 2, 1]\n",
        "q2.store_original_ids()\n",
        "######################################################################\n",
        "\n",
        "# Your code goes here. Swap the values to which a and b refer.\n",
        "# If you get stuck, you can always uncomment one or both of the lines in\n",
        "# the next cell for a hint, or to peek at the solution.\n",
        "\n",
        "######################################################################\n",
        "c = a\n",
        "a = b\n",
        "b = c\n",
        "# Check your answer\n",
        "q2.check()"
      ],
      "metadata": {
        "execution": {
          "iopub.status.busy": "2022-03-29T21:24:27.731868Z",
          "iopub.execute_input": "2022-03-29T21:24:27.732151Z",
          "iopub.status.idle": "2022-03-29T21:24:27.741220Z",
          "shell.execute_reply.started": "2022-03-29T21:24:27.732122Z",
          "shell.execute_reply": "2022-03-29T21:24:27.740490Z"
        },
        "trusted": true,
        "id": "GFPJxcA1nXid"
      },
      "execution_count": null,
      "outputs": []
    },
    {
      "cell_type": "code",
      "source": [
        "q2.hint()"
      ],
      "metadata": {
        "execution": {
          "iopub.status.busy": "2022-03-29T21:22:58.163463Z",
          "iopub.execute_input": "2022-03-29T21:22:58.163774Z",
          "iopub.status.idle": "2022-03-29T21:22:58.171072Z",
          "shell.execute_reply.started": "2022-03-29T21:22:58.163740Z",
          "shell.execute_reply": "2022-03-29T21:22:58.170419Z"
        },
        "trusted": true,
        "id": "2OXz6RetnXie"
      },
      "execution_count": null,
      "outputs": []
    },
    {
      "cell_type": "code",
      "source": [
        "q2.solution()"
      ],
      "metadata": {
        "execution": {
          "iopub.status.busy": "2022-03-29T21:24:43.356541Z",
          "iopub.execute_input": "2022-03-29T21:24:43.356945Z",
          "iopub.status.idle": "2022-03-29T21:24:43.363316Z",
          "shell.execute_reply.started": "2022-03-29T21:24:43.356914Z",
          "shell.execute_reply": "2022-03-29T21:24:43.362299Z"
        },
        "trusted": true,
        "id": "XC1psMVonXie"
      },
      "execution_count": null,
      "outputs": []
    },
    {
      "cell_type": "markdown",
      "source": [
        "<hr/>\n",
        "\n",
        "# 3a.\n",
        "\n",
        "Add parentheses to the following expression so that it evaluates to 1."
      ],
      "metadata": {
        "id": "XZNiResKnXif"
      }
    },
    {
      "cell_type": "code",
      "source": [
        "(5 - 3 )// 2"
      ],
      "metadata": {
        "execution": {
          "iopub.status.busy": "2022-03-29T21:25:30.484345Z",
          "iopub.execute_input": "2022-03-29T21:25:30.484766Z",
          "iopub.status.idle": "2022-03-29T21:25:30.490013Z",
          "shell.execute_reply.started": "2022-03-29T21:25:30.484732Z",
          "shell.execute_reply": "2022-03-29T21:25:30.489292Z"
        },
        "trusted": true,
        "id": "N2KQdGfznXif"
      },
      "execution_count": null,
      "outputs": []
    },
    {
      "cell_type": "code",
      "source": [
        "#q3.a.hint()"
      ],
      "metadata": {
        "execution": {
          "iopub.status.busy": "2022-03-29T19:22:20.422919Z",
          "iopub.execute_input": "2022-03-29T19:22:20.423361Z",
          "iopub.status.idle": "2022-03-29T19:22:20.426854Z",
          "shell.execute_reply.started": "2022-03-29T19:22:20.423328Z",
          "shell.execute_reply": "2022-03-29T19:22:20.426011Z"
        },
        "trusted": true,
        "id": "k0YkXxiznXig"
      },
      "execution_count": null,
      "outputs": []
    },
    {
      "cell_type": "code",
      "source": [
        "# Check your answer (Run this code cell to receive credit!)\n",
        "q3.a.solution()"
      ],
      "metadata": {
        "execution": {
          "iopub.status.busy": "2022-03-29T21:25:36.600402Z",
          "iopub.execute_input": "2022-03-29T21:25:36.600991Z",
          "iopub.status.idle": "2022-03-29T21:25:36.608064Z",
          "shell.execute_reply.started": "2022-03-29T21:25:36.600942Z",
          "shell.execute_reply": "2022-03-29T21:25:36.607220Z"
        },
        "trusted": true,
        "id": "x_01kCognXig"
      },
      "execution_count": null,
      "outputs": []
    },
    {
      "cell_type": "markdown",
      "source": [
        "# 3b.  <span title=\"A bit spicy\" style=\"color: darkgreen \">🌶️</span>\n",
        "\n",
        "<small>Questions, like this one, marked a spicy pepper are a bit harder.</small>\n",
        "\n",
        "Add parentheses to the following expression so that it evaluates to 0."
      ],
      "metadata": {
        "id": "pElGuRFqnXig"
      }
    },
    {
      "cell_type": "code",
      "source": [
        "8 - (3 * 2) - (1 + 1)"
      ],
      "metadata": {
        "execution": {
          "iopub.status.busy": "2022-03-29T21:27:07.345667Z",
          "iopub.execute_input": "2022-03-29T21:27:07.346017Z",
          "iopub.status.idle": "2022-03-29T21:27:07.351920Z",
          "shell.execute_reply.started": "2022-03-29T21:27:07.345978Z",
          "shell.execute_reply": "2022-03-29T21:27:07.351135Z"
        },
        "trusted": true,
        "id": "PSTOuK0inXih"
      },
      "execution_count": null,
      "outputs": []
    },
    {
      "cell_type": "code",
      "source": [
        "#q3.b.hint()"
      ],
      "metadata": {
        "execution": {
          "iopub.status.busy": "2022-03-29T19:22:20.454555Z",
          "iopub.execute_input": "2022-03-29T19:22:20.454904Z",
          "iopub.status.idle": "2022-03-29T19:22:20.463929Z",
          "shell.execute_reply.started": "2022-03-29T19:22:20.454875Z",
          "shell.execute_reply": "2022-03-29T19:22:20.463232Z"
        },
        "trusted": true,
        "id": "oXdXnrUXnXih"
      },
      "execution_count": null,
      "outputs": []
    },
    {
      "cell_type": "code",
      "source": [
        "# Check your answer (Run this code cell to receive credit!)\n",
        "q3.b.solution()"
      ],
      "metadata": {
        "execution": {
          "iopub.status.busy": "2022-03-29T21:27:13.564806Z",
          "iopub.execute_input": "2022-03-29T21:27:13.565088Z",
          "iopub.status.idle": "2022-03-29T21:27:13.571989Z",
          "shell.execute_reply.started": "2022-03-29T21:27:13.565058Z",
          "shell.execute_reply": "2022-03-29T21:27:13.571122Z"
        },
        "trusted": true,
        "id": "YJBI-4sVnXii"
      },
      "execution_count": null,
      "outputs": []
    },
    {
      "cell_type": "markdown",
      "source": [
        "<hr/>\n",
        "\n",
        "# 4. \n",
        "Alice, Bob and Carol have agreed to pool their Halloween candy and split it evenly among themselves.\n",
        "For the sake of their friendship, any candies left over will be smashed. For example, if they collectively\n",
        "bring home 91 candies, they'll take 30 each and smash 1.\n",
        "\n",
        "Write an arithmetic expression below to calculate how many candies they must smash for a given haul."
      ],
      "metadata": {
        "id": "A6v-yjP0nXii"
      }
    },
    {
      "cell_type": "code",
      "source": [
        "# Variables representing the number of candies collected by alice, bob, and carol\n",
        "alice_candies = 121\n",
        "bob_candies = 77\n",
        "carol_candies = 109\n",
        "\n",
        "# Your code goes here! Replace the right-hand side of this assignment with an expression\n",
        "# involving alice_candies, bob_candies, and carol_candies\n",
        "to_smash = -1\n",
        "total = (alice_candies + bob_candies + carol_candies)\n",
        "to_smash = (total % 3)\n",
        "# Check your answer\n",
        "q4.check()"
      ],
      "metadata": {
        "execution": {
          "iopub.status.busy": "2022-03-29T21:34:21.424357Z",
          "iopub.execute_input": "2022-03-29T21:34:21.425020Z",
          "iopub.status.idle": "2022-03-29T21:34:21.435283Z",
          "shell.execute_reply.started": "2022-03-29T21:34:21.424941Z",
          "shell.execute_reply": "2022-03-29T21:34:21.434347Z"
        },
        "trusted": true,
        "id": "V7F_BKyPnXii"
      },
      "execution_count": null,
      "outputs": []
    },
    {
      "cell_type": "code",
      "source": [
        "q4.hint()\n",
        "#q4.solution()"
      ],
      "metadata": {
        "execution": {
          "iopub.status.busy": "2022-03-29T21:30:39.620651Z",
          "iopub.execute_input": "2022-03-29T21:30:39.620926Z",
          "iopub.status.idle": "2022-03-29T21:30:39.627947Z",
          "shell.execute_reply.started": "2022-03-29T21:30:39.620898Z",
          "shell.execute_reply": "2022-03-29T21:30:39.627342Z"
        },
        "trusted": true,
        "id": "shJp0j1gnXii"
      },
      "execution_count": null,
      "outputs": []
    },
    {
      "cell_type": "markdown",
      "source": [
        "# Keep Going\n",
        "\n",
        "Next up, you'll **[learn to write new functions and understand functions others write](https://www.kaggle.com/colinmorris/functions-and-getting-help)**. This will make you at least 10 times more productive as a Python programmer. "
      ],
      "metadata": {
        "id": "9DuQ8UPYnXii"
      }
    },
    {
      "cell_type": "markdown",
      "source": [
        "---\n",
        "\n",
        "\n",
        "\n",
        "\n",
        "*Have questions or comments? Visit the [course discussion forum](https://www.kaggle.com/learn/python/discussion) to chat with other learners.*"
      ],
      "metadata": {
        "id": "Xdy84dSRnXij"
      }
    }
  ]
}